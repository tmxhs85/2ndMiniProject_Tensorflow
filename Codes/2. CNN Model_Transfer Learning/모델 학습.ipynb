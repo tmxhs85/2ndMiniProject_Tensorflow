{
 "cells": [
  {
   "cell_type": "code",
   "execution_count": 1,
   "id": "f7895834",
   "metadata": {},
   "outputs": [],
   "source": [
    "import numpy as np\n",
    "import pandas as pd\n",
    "import matplotlib.pyplot as plt"
   ]
  },
  {
   "cell_type": "code",
   "execution_count": 2,
   "id": "14630c3d",
   "metadata": {},
   "outputs": [],
   "source": [
    "df = np.load(\"C:/Users/Gunhee/test/letsgo/npy2.npy\",allow_pickle=True).item()"
   ]
  },
  {
   "cell_type": "code",
   "execution_count": 3,
   "id": "dc562aef",
   "metadata": {},
   "outputs": [
    {
     "data": {
      "text/plain": [
       "dict_keys(['XM3 E-TECH 하이브리드', 'XM3', 'QM6', 'SM6', '르노 MASTER'])"
      ]
     },
     "execution_count": 3,
     "metadata": {},
     "output_type": "execute_result"
    }
   ],
   "source": [
    "df.keys()"
   ]
  },
  {
   "cell_type": "code",
   "execution_count": 4,
   "id": "840a72a7",
   "metadata": {},
   "outputs": [],
   "source": [
    "xm3_e = np.array(df[\"XM3 E-TECH 하이브리드\"])\n",
    "xm3 = np.array(df['XM3'])\n",
    "qm6 = np.array(df['QM6'])\n",
    "sm6 = np.array(df['SM6'])\n",
    "master = np.array(df['르노 MASTER'])"
   ]
  },
  {
   "cell_type": "code",
   "execution_count": 5,
   "id": "d125ed7b",
   "metadata": {},
   "outputs": [],
   "source": [
    "import tensorflow as tf\n",
    "import torch"
   ]
  },
  {
   "cell_type": "code",
   "execution_count": 6,
   "id": "af567451",
   "metadata": {},
   "outputs": [],
   "source": [
    "xm3_t = torch.Tensor(xm3)\n",
    "xm3_e_t = torch.Tensor(xm3_e)\n",
    "qm6_t = torch.Tensor(qm6)\n",
    "sm6_t = torch.Tensor(sm6)\n",
    "master_t = torch.Tensor(master)"
   ]
  },
  {
   "cell_type": "code",
   "execution_count": null,
   "id": "f21f4cef",
   "metadata": {},
   "outputs": [],
   "source": [
    "xm3_t.shape"
   ]
  },
  {
   "cell_type": "code",
   "execution_count": 8,
   "id": "c60460fa",
   "metadata": {},
   "outputs": [],
   "source": [
    "dim_0 = torch.cat((xm3_t,xm3_e_t,qm6_t,sm6_t,master_t),dim=0)"
   ]
  },
  {
   "cell_type": "code",
   "execution_count": 9,
   "id": "56d2cac1",
   "metadata": {},
   "outputs": [
    {
     "data": {
      "text/plain": [
       "torch.Size([5000, 128, 128, 3])"
      ]
     },
     "execution_count": 9,
     "metadata": {},
     "output_type": "execute_result"
    }
   ],
   "source": [
    "dim_0.shape"
   ]
  },
  {
   "cell_type": "code",
   "execution_count": 10,
   "id": "139af492",
   "metadata": {},
   "outputs": [],
   "source": [
    "c = np.array(dim_0)"
   ]
  },
  {
   "cell_type": "code",
   "execution_count": 43,
   "id": "7d522346",
   "metadata": {},
   "outputs": [],
   "source": [
    "# 라벨 만들기\n",
    "number_of_data = 5000\n",
    "y = np.zeros(number_of_data, dtype=np.int32)\n",
    "y[1000:2000] = 1\n",
    "y[2000:3000] = 2\n",
    "y[3000:4000] = 3\n",
    "y[4000:5000] = 4"
   ]
  },
  {
   "cell_type": "code",
   "execution_count": null,
   "id": "513da2c7",
   "metadata": {},
   "outputs": [],
   "source": []
  },
  {
   "cell_type": "code",
   "execution_count": 12,
   "id": "ac6192a2",
   "metadata": {},
   "outputs": [],
   "source": [
    "from sklearn.model_selection import train_test_split\n",
    "from torch.utils.data import TensorDataset, DataLoader\n",
    "from torch import optim"
   ]
  },
  {
   "cell_type": "code",
   "execution_count": 44,
   "id": "72cc8ee6",
   "metadata": {},
   "outputs": [],
   "source": [
    "x_train, x_test, y_train, y_test = train_test_split(c,y ,random_state=42,test_size=0.25) # 넘파이\n",
    "# x_train, x_test, y_train, y_test = train_test_split(dim_0,y ,random_state=42) # 토치"
   ]
  },
  {
   "cell_type": "code",
   "execution_count": null,
   "id": "547894c4",
   "metadata": {},
   "outputs": [],
   "source": [
    "# # 토치\n",
    "# x_train = torch.as_tensor(x_train)\n",
    "# x_test = torch.as_tensor(x_test)\n",
    "# y_train = torch.as_tensor(y_train)\n",
    "# y_test = torch.as_tensor(y_test)\n",
    "\n",
    "# ds_train = TensorDataset(x_train, y_train)\n",
    "# ds_test = TensorDataset(x_test, y_test)\n",
    "\n",
    "# loader_train = DataLoader(ds_train, batch_size=64, shuffle=True)\n",
    "# loader_test = DataLoader(ds_test, batch_size=64, shuffle=False)"
   ]
  },
  {
   "cell_type": "code",
   "execution_count": 37,
   "id": "61b50241",
   "metadata": {},
   "outputs": [
    {
     "data": {
      "text/plain": [
       "((3750, 128, 128, 3), (3750,), (1250, 128, 128, 3), (1250,))"
      ]
     },
     "execution_count": 37,
     "metadata": {},
     "output_type": "execute_result"
    }
   ],
   "source": [
    "x_train.shape,y_train.shape, x_test.shape,y_test.shape"
   ]
  },
  {
   "cell_type": "code",
   "execution_count": 45,
   "id": "af97da17",
   "metadata": {},
   "outputs": [],
   "source": [
    "x_train = x_train.astype(float) / 255.0\n",
    "x_test = x_test.astype(float) / 255.0"
   ]
  },
  {
   "cell_type": "code",
   "execution_count": null,
   "id": "ebdbe96e",
   "metadata": {},
   "outputs": [],
   "source": [
    "# ss = StandardScaler()\n",
    "# x_train_s = ss.fit_transform(x_train)\n",
    "# x_test_s = ss.fit_transform(x_test)"
   ]
  },
  {
   "cell_type": "code",
   "execution_count": null,
   "id": "5f36be00",
   "metadata": {},
   "outputs": [],
   "source": [
    "# df = np.load(\"C:/Users/Gunhee/test/letsgo/npy1.npy\",allow_pickle=True).item()\n",
    "# caltech_dir = \"C:/Users/@/Desktop/product_image/Product_image_recog/image\"\n",
    "# categories = ['XM3 E-TECH 하이브리드', 'XM3', 'QM6', 'SM6', '르노 MASTER']\n",
    "# nb_classes = len(categories)"
   ]
  },
  {
   "cell_type": "code",
   "execution_count": 32,
   "id": "8372267e",
   "metadata": {},
   "outputs": [],
   "source": [
    "from tensorflow.keras.preprocessing.image import ImageDataGenerator\n",
    "from tensorflow.keras.layers import Conv2D, MaxPooling2D, Flatten\n",
    "from tensorflow.keras.layers import Dense, Dropout, Input,Activation\n",
    "from tensorflow.keras.models import Model\n",
    "from keras import optimizers, initializers, regularizers, metrics ,activations\n",
    "from tensorflow.keras.utils import to_categorical"
   ]
  },
  {
   "cell_type": "code",
   "execution_count": 46,
   "id": "999fbc2b",
   "metadata": {},
   "outputs": [],
   "source": [
    "# 모델 구조 정의 \n",
    "model = Sequential()\n",
    "model.add(Conv2D(32, (3, 3), input_shape=(128,128,3), padding='same'))\n",
    "model.add(Activation('relu'))\n",
    "model.add(MaxPooling2D(pool_size=(2, 2)))\n",
    "model.add(Dropout(0.5)),\n",
    "\n",
    "model.add(Conv2D(64, (3, 3), padding='same')),\n",
    "model.add(Activation('relu')),\n",
    "model.add(Dropout(0.5)),\n",
    "model.add(Conv2D(64, (3, 3))),\n",
    "model.add(MaxPooling2D(pool_size=(2, 2))),\n",
    "model.add(Dropout(0.5)),\n",
    "\n",
    "# 전결합층\n",
    "model.add(Flatten())    # 벡터형태로 reshape\n",
    "model.add(Dense(512))   # 출력\n",
    "model.add(Activation('relu'))\n",
    "model.add(Dropout(0.5))\n",
    "\n",
    "model.add(Dense(5))\n",
    "model.add(Activation('softmax'))\n",
    "# 모델 구축하기\n",
    "model.compile(loss='sparse_categorical_crossentropy',   # 최적화 함수 지정\n",
    "    optimizer='rmsprop',\n",
    "    metrics=['accuracy'])\n",
    "# 모델 확인\n",
    "#print(model.summary())"
   ]
  },
  {
   "cell_type": "code",
   "execution_count": null,
   "id": "6e29ea06",
   "metadata": {},
   "outputs": [
    {
     "name": "stdout",
     "output_type": "stream",
     "text": [
      "Epoch 1/20\n",
      "30/30 [==============================] - 87s 3s/step - loss: 5.9455 - accuracy: 0.2189 - val_loss: 9.8451 - val_accuracy: 0.1936\n",
      "Epoch 2/20\n",
      "30/30 [==============================] - 84s 3s/step - loss: 1.6347 - accuracy: 0.2347 - val_loss: 8.8233 - val_accuracy: 0.1944\n",
      "Epoch 3/20\n",
      "30/30 [==============================] - 86s 3s/step - loss: 1.6455 - accuracy: 0.2576 - val_loss: 4.3743 - val_accuracy: 0.1888\n",
      "Epoch 4/20\n",
      "30/30 [==============================] - 92s 3s/step - loss: 1.5569 - accuracy: 0.2675 - val_loss: 3.0553 - val_accuracy: 0.2240\n",
      "Epoch 5/20\n",
      "30/30 [==============================] - 90s 3s/step - loss: 1.5263 - accuracy: 0.3000 - val_loss: 3.2370 - val_accuracy: 0.2160\n",
      "Epoch 6/20\n",
      "30/30 [==============================] - 89s 3s/step - loss: 1.4927 - accuracy: 0.3464 - val_loss: 2.3551 - val_accuracy: 0.2952\n",
      "Epoch 7/20\n",
      "30/30 [==============================] - 91s 3s/step - loss: 1.4147 - accuracy: 0.3819 - val_loss: 2.6745 - val_accuracy: 0.2480\n",
      "Epoch 8/20\n",
      "30/30 [==============================] - 88s 3s/step - loss: 1.3403 - accuracy: 0.4277 - val_loss: 3.0458 - val_accuracy: 0.2328\n",
      "Epoch 9/20\n",
      "30/30 [==============================] - 91s 3s/step - loss: 1.3835 - accuracy: 0.4421 - val_loss: 3.7675 - val_accuracy: 0.2672\n",
      "Epoch 10/20\n",
      "30/30 [==============================] - 90s 3s/step - loss: 1.1956 - accuracy: 0.5016 - val_loss: 2.4687 - val_accuracy: 0.3008\n",
      "Epoch 11/20\n",
      "30/30 [==============================] - 93s 3s/step - loss: 1.1272 - accuracy: 0.5448 - val_loss: 3.8017 - val_accuracy: 0.2224\n",
      "Epoch 12/20\n",
      "30/30 [==============================] - 96s 3s/step - loss: 1.0236 - accuracy: 0.5923 - val_loss: 2.8175 - val_accuracy: 0.3160\n",
      "Epoch 13/20\n",
      "30/30 [==============================] - 98s 3s/step - loss: 0.8986 - accuracy: 0.6488 - val_loss: 3.9567 - val_accuracy: 0.2656\n",
      "Epoch 14/20\n",
      "30/30 [==============================] - 98s 3s/step - loss: 0.7902 - accuracy: 0.6907 - val_loss: 3.4016 - val_accuracy: 0.3128\n",
      "Epoch 15/20\n",
      "30/30 [==============================] - 100s 3s/step - loss: 0.6706 - accuracy: 0.7453 - val_loss: 4.4723 - val_accuracy: 0.2824\n",
      "Epoch 16/20\n",
      "30/30 [==============================] - 96s 3s/step - loss: 0.5425 - accuracy: 0.7997 - val_loss: 2.7799 - val_accuracy: 0.3664\n",
      "Epoch 17/20\n",
      "12/30 [===========>..................] - ETA: 53s - loss: 0.4370 - accuracy: 0.8398"
     ]
    }
   ],
   "source": [
    "history1 = model.fit(x_train, y_train, \n",
    "                    batch_size=128, \n",
    "                    epochs=20, \n",
    "                    validation_data=(x_test, y_test))"
   ]
  },
  {
   "cell_type": "code",
   "execution_count": 42,
   "id": "624cbc95",
   "metadata": {},
   "outputs": [],
   "source": [
    "# hdf5_file = \"C:/Users/Gunhee/test/letsgo\\model/7obj-model.hdf5\"\n",
    "hdf5_file = \"C:/Users/Gunhee/test/letsgo\\model/8obj-model.hdf5\"\n",
    "\n"
   ]
  },
  {
   "cell_type": "code",
   "execution_count": 40,
   "id": "cd526786",
   "metadata": {
    "scrolled": true
   },
   "outputs": [
    {
     "name": "stdout",
     "output_type": "stream",
     "text": [
      "40/40 [==============================] - 5s 121ms/step - loss: 3.5853 - accuracy: 0.4480\n",
      "loss= 3.5852789878845215\n",
      "accuracy= 0.4480000138282776\n"
     ]
    }
   ],
   "source": [
    "# 모델의 오차범위\n",
    "score = model.evaluate(x_test, y_test)\n",
    "print('loss=', score[0])        # loss\n",
    "print('accuracy=', score[1])    # acc"
   ]
  },
  {
   "cell_type": "code",
   "execution_count": 1,
   "id": "40c65f24",
   "metadata": {},
   "outputs": [],
   "source": [
    "# acc = history1.history['acc']\n",
    "# val_acc = history1.history['val_acc']\n",
    "# loss = history1.history['loss']\n",
    "# val_loss = history1.history['val_loss']\n",
    "\n",
    "# epochs = range(len(acc))\n",
    "\n",
    "# plt.plot(epochs, acc, 'bo', label='Training acc')\n",
    "# plt.plot(epochs, val_acc, 'b', label='Validation acc')\n",
    "# plt.title('Training and validation accuracy')\n",
    "# plt.legend()\n",
    "\n",
    "# plt.figure()\n",
    "\n",
    "# plt.plot(epochs, loss, 'bo', label='Training loss')\n",
    "# plt.plot(epochs, val_loss, 'b', label='Validation loss')\n",
    "# plt.title('Training and validation loss')\n",
    "# plt.legend()"
   ]
  },
  {
   "cell_type": "code",
   "execution_count": null,
   "id": "7e6f5b2e",
   "metadata": {},
   "outputs": [],
   "source": []
  },
  {
   "cell_type": "code",
   "execution_count": null,
   "id": "a6dde606",
   "metadata": {},
   "outputs": [],
   "source": []
  },
  {
   "cell_type": "code",
   "execution_count": null,
   "id": "8263d198",
   "metadata": {},
   "outputs": [],
   "source": []
  },
  {
   "cell_type": "code",
   "execution_count": null,
   "id": "bbae4faf",
   "metadata": {},
   "outputs": [],
   "source": []
  },
  {
   "cell_type": "code",
   "execution_count": null,
   "id": "03be7f4e",
   "metadata": {},
   "outputs": [],
   "source": []
  },
  {
   "cell_type": "code",
   "execution_count": null,
   "id": "5929c6bb",
   "metadata": {},
   "outputs": [],
   "source": []
  },
  {
   "cell_type": "code",
   "execution_count": null,
   "id": "bb053294",
   "metadata": {},
   "outputs": [],
   "source": []
  },
  {
   "cell_type": "code",
   "execution_count": null,
   "id": "32644afd",
   "metadata": {},
   "outputs": [],
   "source": []
  },
  {
   "cell_type": "code",
   "execution_count": 19,
   "id": "3c73ffe2",
   "metadata": {},
   "outputs": [],
   "source": [
    "from tensorflow import keras\n",
    "from tensorflow.keras import layers\n",
    "from tensorflow.keras.layers import Conv2D, MaxPooling2D, Dense, Flatten, Dropout\n",
    "from tensorflow.keras.models import Sequential\n",
    "from tensorflow.keras.callbacks import ModelCheckpoint, EarlyStopping"
   ]
  },
  {
   "cell_type": "code",
   "execution_count": null,
   "id": "ca188801",
   "metadata": {},
   "outputs": [],
   "source": [
    "model = Sequential()\n",
    "model.add(Conv2D(16,(3,3),activation='relu', input_shape=(128,128,3)))\n",
    "model.add(Conv2D(32,(3,3),activation='relu'))\n",
    "model.add(MaxPooling2D(2,2))\n",
    "model.add(Dropout(0.25))\n",
    "\n",
    "model.add(Conv2D(64,(3,3),activation='relu'))\n",
    "model.add(Conv2D(64,(3,3),activation='relu'))\n",
    "model.add(MaxPooling2D(2,2))\n",
    "model.add(Dropout(0.25))\n",
    "\n",
    "model.add(Conv2D(128,(3,3),activation='relu'))\n",
    "model.add(MaxPooling2D(2,2))\n",
    "model.add(Dropout(0.25))\n",
    "\n",
    "model.add(Flatten())\n",
    "\n",
    "model.add(Dense(128,activation='relu'))\n",
    "model.add(Dropout(0.25))\n",
    "model.add(Dense(64,activation='relu'))\n",
    "model.add(Dropout(0.25))\n",
    "model.add(Dense(32,activation='relu'))\n",
    "model.add(Dropout(0.25))\n",
    "\n",
    "model.add(Dense(5,activation='softmax'))\n",
    "\n",
    "model.compile(loss=tf.keras.losses.sparse_categorical_crossentropy, optimizer='adam', metrics=['accuracy'])\n",
    "\n",
    "earlyStop = tf.keras.callbacks.EarlyStopping(patience=3)\n",
    "\n",
    "model.fit( x_train, y_train, epochs=500,\n",
    "          validation_data=( x_test, y_test),\n",
    "          callbacks=earlyStop\n",
    "         )"
   ]
  },
  {
   "cell_type": "code",
   "execution_count": null,
   "id": "7d0e8c6e",
   "metadata": {},
   "outputs": [],
   "source": []
  },
  {
   "cell_type": "code",
   "execution_count": null,
   "id": "50e29b21",
   "metadata": {},
   "outputs": [],
   "source": []
  },
  {
   "cell_type": "code",
   "execution_count": null,
   "id": "fe08d48d",
   "metadata": {},
   "outputs": [],
   "source": []
  },
  {
   "cell_type": "code",
   "execution_count": null,
   "id": "fb9c128d",
   "metadata": {},
   "outputs": [],
   "source": []
  },
  {
   "cell_type": "code",
   "execution_count": null,
   "id": "85d99ade",
   "metadata": {},
   "outputs": [],
   "source": []
  },
  {
   "cell_type": "code",
   "execution_count": null,
   "id": "5f2edd01",
   "metadata": {},
   "outputs": [],
   "source": []
  },
  {
   "cell_type": "code",
   "execution_count": null,
   "id": "ab8c50a9",
   "metadata": {},
   "outputs": [],
   "source": []
  },
  {
   "cell_type": "code",
   "execution_count": null,
   "id": "4f9191dd",
   "metadata": {},
   "outputs": [],
   "source": []
  }
 ],
 "metadata": {
  "kernelspec": {
   "display_name": "Python 3 (ipykernel)",
   "language": "python",
   "name": "python3"
  },
  "language_info": {
   "codemirror_mode": {
    "name": "ipython",
    "version": 3
   },
   "file_extension": ".py",
   "mimetype": "text/x-python",
   "name": "python",
   "nbconvert_exporter": "python",
   "pygments_lexer": "ipython3",
   "version": "3.9.12"
  }
 },
 "nbformat": 4,
 "nbformat_minor": 5
}
