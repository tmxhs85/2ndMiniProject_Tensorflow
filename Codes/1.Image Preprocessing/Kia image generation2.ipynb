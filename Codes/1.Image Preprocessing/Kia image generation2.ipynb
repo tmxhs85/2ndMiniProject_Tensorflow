{
 "cells": [
  {
   "cell_type": "code",
   "execution_count": 8,
   "id": "d3c9c7dc",
   "metadata": {},
   "outputs": [],
   "source": [
    "import numpy as np\n",
    "from PIL import Image\n",
    "import matplotlib.pyplot as plt"
   ]
  },
  {
   "cell_type": "code",
   "execution_count": 66,
   "id": "b0d523e6",
   "metadata": {},
   "outputs": [],
   "source": [
    "import pandas as pd\n",
    "import numpy as np\n",
    "from urllib import request\n",
    "from bs4 import BeautifulSoup\n",
    "\n",
    "from urllib.request import Request, urlopen\n",
    "\n",
    "import selenium\n",
    "from selenium import webdriver\n",
    "from selenium.webdriver.common.by import By\n",
    "\n",
    "from selenium.webdriver.common.keys import Keys\n",
    "\n",
    "import time\n",
    "\n",
    "import urllib\n",
    "import cv2\n",
    "\n",
    "from tensorflow.keras.preprocessing import image\n",
    "\n",
    "import matplotlib.pyplot as plt\n",
    "\n",
    "import ssl"
   ]
  },
  {
   "cell_type": "code",
   "execution_count": 67,
   "id": "8f528384",
   "metadata": {},
   "outputs": [],
   "source": [
    "kia = np.load(('car project/kia.npy'),allow_pickle='TRUE').item()"
   ]
  },
  {
   "cell_type": "code",
   "execution_count": 100,
   "id": "1a3bca17",
   "metadata": {},
   "outputs": [],
   "source": [
    "num = 13\n",
    "for i in kia['스팅어'][51:]:\n",
    "    try:\n",
    "        cv2.imwrite(f'car project/newww/{num}.jpg',i)\n",
    "        num += 1\n",
    "    except:\n",
    "        pass"
   ]
  },
  {
   "cell_type": "code",
   "execution_count": 104,
   "id": "a108e2b7",
   "metadata": {},
   "outputs": [],
   "source": [
    "num = 42\n",
    "while num < 121:\n",
    "    for i in range(1,42):\n",
    "        if num >= 121:\n",
    "            break\n",
    "        image = cv2.imread(f'car project/Casper/Casper ({i}).jpg',cv2.IMREAD_COLOR)\n",
    "        image = np.expand_dims(image,axis=0)\n",
    "        generator = ImageDataGenerator(rotation_range=30.0,width_shift_range=0.2,height_shift_range=0.2,horizontal_flip=True)\n",
    "        gen = generator.flow(image,batch_size=1)\n",
    "        img = gen.next()\n",
    "        cv2.imwrite(f'car project/Casper/Casper ({num}).jpg',img.squeeze())\n",
    "        num += 1"
   ]
  },
  {
   "cell_type": "code",
   "execution_count": null,
   "id": "3a2a7ec9",
   "metadata": {},
   "outputs": [],
   "source": []
  }
 ],
 "metadata": {
  "kernelspec": {
   "display_name": "Python 3 (ipykernel)",
   "language": "python",
   "name": "python3"
  },
  "language_info": {
   "codemirror_mode": {
    "name": "ipython",
    "version": 3
   },
   "file_extension": ".py",
   "mimetype": "text/x-python",
   "name": "python",
   "nbconvert_exporter": "python",
   "pygments_lexer": "ipython3",
   "version": "3.7.0"
  }
 },
 "nbformat": 4,
 "nbformat_minor": 5
}
