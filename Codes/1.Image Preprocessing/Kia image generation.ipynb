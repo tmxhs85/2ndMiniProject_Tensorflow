{
 "cells": [
  {
   "cell_type": "code",
   "execution_count": 1,
   "id": "7cc81abf",
   "metadata": {},
   "outputs": [],
   "source": [
    "import numpy as np\n",
    "from tensorflow.keras.preprocessing.image import ImageDataGenerator"
   ]
  },
  {
   "cell_type": "code",
   "execution_count": 2,
   "id": "034a556c",
   "metadata": {},
   "outputs": [],
   "source": [
    "kiakia_car = np.load(('car project/kiakia.npy'),allow_pickle='TRUE').item()"
   ]
  },
  {
   "cell_type": "code",
   "execution_count": 3,
   "id": "9ea18432",
   "metadata": {},
   "outputs": [
    {
     "data": {
      "text/plain": [
       "dict_keys(['니로 EV', 'EV6', 'K5', '카니발', '스포티지', '스팅어', '셀토스', '쏘렌토', '모하비', '모닝', 'K9', 'K3'])"
      ]
     },
     "execution_count": 3,
     "metadata": {},
     "output_type": "execute_result"
    }
   ],
   "source": [
    "kiakia_car.keys()"
   ]
  },
  {
   "cell_type": "code",
   "execution_count": 5,
   "id": "26aa6b11",
   "metadata": {},
   "outputs": [],
   "source": [
    "def appendImage(carList):\n",
    "    imgList = []\n",
    "    for i in range(len(carList)):  # 매개변수로 입력받은 리스트의 이미지를 다른 리스트에 저장\n",
    "        imgList.append(np.expand_dims(carList[i],axis=0))  # 단, image generate를 위해 1차원 늘려준다\n",
    "    generator = ImageDataGenerator(rotation_range=30.0,width_shift_range=0.2,height_shift_range=0.2,horizontal_flip=True)\n",
    "    batch_size = 1\n",
    "    check = 0\n",
    "    while(check == 0):\n",
    "        for i in range(len(imgList)):\n",
    "            if len(carList) >= 1000:  # 1000장까지만 append하고 break\n",
    "                check = 1\n",
    "                break\n",
    "            gen = generator.flow(imgList[i],batch_size=batch_size)  # for문을 통해 이미지 한장씩 generate\n",
    "            img = gen.next()\n",
    "            carList.append(img.squeeze())  # 매개변수로 입력받은 리스트에 append (다시 차원 원래대로)"
   ]
  },
  {
   "cell_type": "code",
   "execution_count": 6,
   "id": "f41b4418",
   "metadata": {},
   "outputs": [],
   "source": [
    "for i in kiakia_car.keys():\n",
    "    appendImage(kiakia_car[i])"
   ]
  },
  {
   "cell_type": "code",
   "execution_count": 7,
   "id": "483096f9",
   "metadata": {},
   "outputs": [],
   "source": [
    "np.save('car project/kia_car1000.npy', kiakia_car)"
   ]
  },
  {
   "cell_type": "code",
   "execution_count": null,
   "id": "9cfc5c8d",
   "metadata": {},
   "outputs": [],
   "source": []
  }
 ],
 "metadata": {
  "kernelspec": {
   "display_name": "Python 3 (ipykernel)",
   "language": "python",
   "name": "python3"
  },
  "language_info": {
   "codemirror_mode": {
    "name": "ipython",
    "version": 3
   },
   "file_extension": ".py",
   "mimetype": "text/x-python",
   "name": "python",
   "nbconvert_exporter": "python",
   "pygments_lexer": "ipython3",
   "version": "3.7.0"
  }
 },
 "nbformat": 4,
 "nbformat_minor": 5
}
