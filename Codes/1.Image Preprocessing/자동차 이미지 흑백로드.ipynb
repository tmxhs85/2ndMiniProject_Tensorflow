{
 "cells": [
  {
   "cell_type": "code",
   "execution_count": 2,
   "id": "44912b86",
   "metadata": {},
   "outputs": [],
   "source": [
    "import cv2\n",
    "import numpy as np\n",
    "import os\n",
    "import glob\n",
    "from matplotlib import pyplot as plt\n",
    "import time\n",
    "from PIL import Image\n",
    "import sys\n",
    "from keras.preprocessing.image import ImageDataGenerator"
   ]
  },
  {
   "cell_type": "code",
   "execution_count": 3,
   "id": "2312849a",
   "metadata": {},
   "outputs": [],
   "source": [
    "# 흑백 이미지 로드\n",
    "def GrayImgtoList(model):\n",
    "    model_list = [ ]\n",
    "    dir_path = f'C:/Users/Gunhee/test/LASTPRO/CARDATA/{model}/'\n",
    "    list_dir = os.listdir(f'C:/Users/Gunhee/test/LASTPRO/CARDATA/{model}/')\n",
    "    for i in list_dir:\n",
    "        img = cv2.imread(dir_path + i, cv2.IMREAD_GRAYSCALE)\n",
    "        img = cv2.cvtColor(img, cv2.COLOR_BGR2RGB)\n",
    "        img = np.array(img)\n",
    "        model_list.append(img)\n",
    "    return model_list"
   ]
  },
  {
   "cell_type": "code",
   "execution_count": 4,
   "id": "40b08634",
   "metadata": {},
   "outputs": [],
   "source": [
    "Rexton_path = 'C:/Users/Gunhee/test/LASTPRO/CARDATA/Rexton/'\n",
    "Tivoli_path = 'C:/Users/Gunhee/test/LASTPRO/CARDATA/Tivoli/'\n",
    "Torres_path = 'C:/Users/Gunhee/test/LASTPRO/CARDATA/Torres/'\n",
    "KorandoEmotion_path = 'C:/Users/Gunhee/test/LASTPRO/CARDATA/KorandoEmotion/'\n",
    "BOLT_EUV_path = 'C:/Users/Gunhee/test/LASTPRO/CARDATA/BOLT_EUV/'\n",
    "BOLT_EV_path = 'C:/Users/Gunhee/test/LASTPRO/CARDATA/BOLT_EV/'\n",
    "Equinox_path = 'C:/Users/Gunhee/test/LASTPRO/CARDATA/Equinox/'\n",
    "G70_path = 'C:/Users/Gunhee/test/LASTPRO/CARDATA/G70/'\n",
    "G80_path = 'C:/Users/Gunhee/test/LASTPRO/CARDATA/G80/'\n",
    "G90_path = 'C:/Users/Gunhee/test/LASTPRO/CARDATA/G90/'\n",
    "GV60_path = 'C:/Users/Gunhee/test/LASTPRO/CARDATA/GV60/'\n",
    "GV70_path = 'C:/Users/Gunhee/test/LASTPRO/CARDATA/GV70/'\n",
    "GV80_path = 'C:/Users/Gunhee/test/LASTPRO/CARDATA/GV80/'\n",
    "Malibu_path = 'C:/Users/Gunhee/test/LASTPRO/CARDATA/Malibu/'\n",
    "Spark_path = 'C:/Users/Gunhee/test/LASTPRO/CARDATA/Spark/'\n",
    "Tahoe_path = 'C:/Users/Gunhee/test/LASTPRO/CARDATA/Tahoe/'\n",
    "Traverse_path = 'C:/Users/Gunhee/test/LASTPRO/CARDATA/Traverse/'\n",
    "Tahoe_path = 'C:/Users/Gunhee/test/LASTPRO/CARDATA/Tahoe/'\n",
    "Trax_path = 'C:/Users/Gunhee/test/LASTPRO/CARDATA/Trax/'"
   ]
  },
  {
   "cell_type": "code",
   "execution_count": null,
   "id": "0c1a62b7",
   "metadata": {},
   "outputs": [],
   "source": [
    "#변환할 이미지 목록 불러오기\n",
    "\n",
    "\n",
    "# Rexton_list = os.listdir(Rexton_path) #디렉토리 내 모든 파일 불러오기\n",
    "# Rexton_list_jpg = [img for img in Rexton_list if img.endswith(\".jpg\")] #지정된 확장자만 필터링\n",
    "\n",
    "# Tivoli_list = os.listdir(Tivoli_path) \n",
    "# Tivoli_list_jpg = [img for img in Tivoli_list if img.endswith(\".jpg\")] \n",
    "\n",
    "# Torres_list = os.listdir(Torres_path) \n",
    "# Torres_list_jpg = [img for img in Torres_list if img.endswith(\".jpg\")] \n",
    "\n",
    "# KorandoEmotion_list = os.listdir(KorandoEmotion_path)\n",
    "# KorandoEmotion_list_jpg = [img for img in KorandoEmotion_list if img.endswith(\".jpg\")] "
   ]
  },
  {
   "cell_type": "code",
   "execution_count": 5,
   "id": "ee7a2f4c",
   "metadata": {},
   "outputs": [],
   "source": [
    "'Rexton','Tivoli','Torres','KorandoEmotion','BOLT_EUV','BOLT_EV','G70','G80','G90','GV60','GV70','GV80','Malibu','Spark','Tahoe','Traverse','Tahoe','Trax'\n",
    "# 흑백 이미지 리스트\n",
    "Rexton_list_np = GrayImgtoList('Rexton')\n",
    "Tivoli_list_np = GrayImgtoList('Tivoli')\n",
    "Torres_list_np = GrayImgtoList('Torres')\n",
    "KorandoEmotion_list_np = GrayImgtoList('KorandoEmotion')\n",
    "BOLT_EUV_list_np = GrayImgtoList('BOLT_EUV')\n",
    "BOLT_EV_list_np = GrayImgtoList('BOLT_EV')\n",
    "Equinox_list_np = GrayImgtoList('Equinox')\n",
    "G70_list_np = GrayImgtoList('G70')\n",
    "G80_list_np = GrayImgtoList('G80')\n",
    "G90_list_np = GrayImgtoList('G90')\n",
    "GV60_list_np = GrayImgtoList('GV60')\n",
    "GV70_list_np = GrayImgtoList('GV70')\n",
    "GV80_list_np = GrayImgtoList('GV80')\n",
    "Malibu_list_np = GrayImgtoList('Malibu')\n",
    "Spark_list_np = GrayImgtoList('Spark')\n",
    "Tahoe_list_np = GrayImgtoList('Tahoe')\n",
    "Traverse_list_np = GrayImgtoList('Traverse')\n",
    "Tahoe_list_np = GrayImgtoList('Tahoe')\n",
    "Trax_list_np = GrayImgtoList('Trax')\n",
    "\n"
   ]
  },
  {
   "cell_type": "code",
   "execution_count": null,
   "id": "ad59f3c4",
   "metadata": {},
   "outputs": [],
   "source": []
  },
  {
   "cell_type": "code",
   "execution_count": null,
   "id": "a5df071c",
   "metadata": {
    "scrolled": true
   },
   "outputs": [],
   "source": [
    "# 이미지 넘파이로 변경.\n",
    "\n",
    "# for i in Rexton_list_jpg:\n",
    "#     img = Image.open(Rexton_path + i,cv2.IMREAD_GRAYSCALE)\n",
    "# #     img = cv2.cvtColor(img, cv2.COLOR_BGR2RGB)\n",
    "#     img_array = np.array(img)\n",
    "#     temp.append(img_array)\n",
    "\n",
    "# #     Rexton_list_np.append(img_array)\n",
    "# #     print(i, \" 추가 완료 - 구조:\", img_array.shape) # 불러온 이미지의 차원 확인 (세로X가로X색)   \n",
    "# # Rexton_np = np.array(Rexton_list_np) #리스트를 numpy로 변환\n",
    "# print(Rexton_np.shape)\n",
    "\n",
    "\n",
    "# for i in Tivoli_list_jpg:\n",
    "#     img = Image.open(Tivoli_path + i,cv2.IMREAD_GRAYSCALE)\n",
    "#     img_array = np.array(img)\n",
    "#     Tivoli_list_np.append(img_array)\n",
    "# #     print(i, \" 추가 완료 - 구조:\", img_array.shape) \n",
    "# # Tivoli_np = np.array(Tivoli_list_np)\n",
    "# print(Tivoli_np.shape)\n",
    "\n",
    "\n",
    "# for i in Torres_list_jpg:\n",
    "#     img = Image.open(Torres_path + i,cv2.IMREAD_GRAYSCALE)\n",
    "#     img_array = np.array(img)\n",
    "#     Torres_list_np.append(img_array)\n",
    "# #     print(i, \" 추가 완료 - 구조:\", img_array.shape) \n",
    "# # Torres_np = np.array(Torres_list_np)\n",
    "# print(Torres_np.shape)\n",
    "\n",
    "# for i in KorandoEmotion_list_jpg:\n",
    "#     img = Image.open(KorandoEmotion_path + i,cv2.IMREAD_GRAYSCALE)\n",
    "#     img_array = np.array(img)\n",
    "#     KorandoEmotion_list_np.append(img_array)\n",
    "# #     print(i, \" 추가 완료 - 구조:\", img_array.shape) \n",
    "# # KorandoEmotion_np = np.array(KorandoEmotion_list_np)\n",
    "# print(KorandoEmotion_np.shape)\n",
    "\n",
    "# rotation_range=30,\n",
    "#     width_shift_range=0.1,\n",
    "#     height_shift_range=0.1,\n",
    "#     shear_range=0.2,\n",
    "#     zoom_range=0.2,\n",
    "#     horizontal_flip=True,\n",
    "#     fill_mode=\"nearest\","
   ]
  },
  {
   "cell_type": "code",
   "execution_count": 6,
   "id": "c8e769eb",
   "metadata": {},
   "outputs": [],
   "source": [
    "# 이미지 사이즈 늘리기\n",
    "def appendImage(carList):\n",
    "    imgList = []\n",
    "    for i in range(len(carList)):  # 매개변수로 입력받은 리스트의 이미지를 다른 리스트에 저장\n",
    "        imgList.append(np.expand_dims(carList[i],axis=0))  # 단, image generate를 위해 1차원 늘려준다\n",
    "    generator = ImageDataGenerator(rotation_range=30.0,\n",
    "                                   width_shift_range=0.1,\n",
    "                                   height_shift_range=0.1,\n",
    "                                   shear_range=0.2,\n",
    "                                   zoom_range=0.2,\n",
    "                                \n",
    "                                   horizontal_flip=True)\n",
    "    batch_size = 1\n",
    "    check = 0\n",
    "    while(check == 0):\n",
    "        for i in range(len(imgList)):\n",
    "            if len(carList) >= 500:  # 300장까지만 append하고 break\n",
    "                check = 1\n",
    "                break\n",
    "            gen = generator.flow(imgList[i],batch_size=batch_size)  # for문을 통해 이미지 한장씩 generate\n",
    "            img = gen.next()\n",
    "            carList.append(img.squeeze())  # 매개변수로 입력받은 리스트에 append (다시 차원 원래대로)\n",
    "            np.array(carList)\n"
   ]
  },
  {
   "cell_type": "code",
   "execution_count": 7,
   "id": "1b9a9bda",
   "metadata": {},
   "outputs": [
    {
     "name": "stderr",
     "output_type": "stream",
     "text": [
      "C:\\Users\\Gunhee\\AppData\\Local\\Temp\\ipykernel_10764\\1710393879.py:23: VisibleDeprecationWarning: Creating an ndarray from ragged nested sequences (which is a list-or-tuple of lists-or-tuples-or ndarrays with different lengths or shapes) is deprecated. If you meant to do this, you must specify 'dtype=object' when creating the ndarray.\n",
      "  np.array(carList)\n"
     ]
    }
   ],
   "source": [
    "appendImage(Rexton_list_np)\n",
    "appendImage(Tivoli_list_np)\n",
    "appendImage(Torres_list_np)\n",
    "appendImage(KorandoEmotion_list_np)\n",
    "appendImage(BOLT_EUV_list_np)\n",
    "appendImage(BOLT_EV_list_np)\n",
    "appendImage(Equinox_list_np)\n",
    "appendImage(G70_list_np)\n",
    "appendImage(G80_list_np)\n",
    "appendImage(G90_list_np)\n",
    "appendImage(GV60_list_np)\n",
    "appendImage(GV70_list_np)\n",
    "appendImage(GV80_list_np)\n",
    "appendImage(Malibu_list_np)\n",
    "appendImage(Spark_list_np)\n",
    "appendImage(Tahoe_list_np)\n",
    "appendImage(Traverse_list_np)\n",
    "appendImage(Tahoe_list_np)\n",
    "appendImage(Trax_list_np)\n",
    "\n",
    "\n"
   ]
  },
  {
   "cell_type": "code",
   "execution_count": null,
   "id": "42eb45f7",
   "metadata": {},
   "outputs": [],
   "source": []
  },
  {
   "cell_type": "code",
   "execution_count": null,
   "id": "cf7f992a",
   "metadata": {},
   "outputs": [],
   "source": []
  },
  {
   "cell_type": "code",
   "execution_count": 8,
   "id": "196a31c9",
   "metadata": {},
   "outputs": [
    {
     "name": "stderr",
     "output_type": "stream",
     "text": [
      "C:\\Users\\Gunhee\\AppData\\Local\\Temp\\ipykernel_10764\\1613005046.py:1: VisibleDeprecationWarning: Creating an ndarray from ragged nested sequences (which is a list-or-tuple of lists-or-tuples-or ndarrays with different lengths or shapes) is deprecated. If you meant to do this, you must specify 'dtype=object' when creating the ndarray.\n",
      "  KorandoEmotion = np.array(KorandoEmotion_list_np)\n",
      "C:\\Users\\Gunhee\\AppData\\Local\\Temp\\ipykernel_10764\\1613005046.py:2: VisibleDeprecationWarning: Creating an ndarray from ragged nested sequences (which is a list-or-tuple of lists-or-tuples-or ndarrays with different lengths or shapes) is deprecated. If you meant to do this, you must specify 'dtype=object' when creating the ndarray.\n",
      "  Tivoli = np.array(Tivoli_list_np)\n",
      "C:\\Users\\Gunhee\\AppData\\Local\\Temp\\ipykernel_10764\\1613005046.py:3: VisibleDeprecationWarning: Creating an ndarray from ragged nested sequences (which is a list-or-tuple of lists-or-tuples-or ndarrays with different lengths or shapes) is deprecated. If you meant to do this, you must specify 'dtype=object' when creating the ndarray.\n",
      "  Torres = np.array(Torres_list_np)\n",
      "C:\\Users\\Gunhee\\AppData\\Local\\Temp\\ipykernel_10764\\1613005046.py:4: VisibleDeprecationWarning: Creating an ndarray from ragged nested sequences (which is a list-or-tuple of lists-or-tuples-or ndarrays with different lengths or shapes) is deprecated. If you meant to do this, you must specify 'dtype=object' when creating the ndarray.\n",
      "  Rexton = np.array(Rexton_list_np)\n",
      "C:\\Users\\Gunhee\\AppData\\Local\\Temp\\ipykernel_10764\\1613005046.py:5: VisibleDeprecationWarning: Creating an ndarray from ragged nested sequences (which is a list-or-tuple of lists-or-tuples-or ndarrays with different lengths or shapes) is deprecated. If you meant to do this, you must specify 'dtype=object' when creating the ndarray.\n",
      "  BOLT_EUV = np.array(BOLT_EUV_list_np)\n",
      "C:\\Users\\Gunhee\\AppData\\Local\\Temp\\ipykernel_10764\\1613005046.py:6: VisibleDeprecationWarning: Creating an ndarray from ragged nested sequences (which is a list-or-tuple of lists-or-tuples-or ndarrays with different lengths or shapes) is deprecated. If you meant to do this, you must specify 'dtype=object' when creating the ndarray.\n",
      "  BOLT_EV =np.array(BOLT_EV_list_np)\n",
      "C:\\Users\\Gunhee\\AppData\\Local\\Temp\\ipykernel_10764\\1613005046.py:7: VisibleDeprecationWarning: Creating an ndarray from ragged nested sequences (which is a list-or-tuple of lists-or-tuples-or ndarrays with different lengths or shapes) is deprecated. If you meant to do this, you must specify 'dtype=object' when creating the ndarray.\n",
      "  Equinox = np.array(Equinox_list_np)\n",
      "C:\\Users\\Gunhee\\AppData\\Local\\Temp\\ipykernel_10764\\1613005046.py:8: VisibleDeprecationWarning: Creating an ndarray from ragged nested sequences (which is a list-or-tuple of lists-or-tuples-or ndarrays with different lengths or shapes) is deprecated. If you meant to do this, you must specify 'dtype=object' when creating the ndarray.\n",
      "  G70 = np.array(G70_list_np)\n",
      "C:\\Users\\Gunhee\\AppData\\Local\\Temp\\ipykernel_10764\\1613005046.py:9: VisibleDeprecationWarning: Creating an ndarray from ragged nested sequences (which is a list-or-tuple of lists-or-tuples-or ndarrays with different lengths or shapes) is deprecated. If you meant to do this, you must specify 'dtype=object' when creating the ndarray.\n",
      "  G80 = np.array(G80_list_np)\n",
      "C:\\Users\\Gunhee\\AppData\\Local\\Temp\\ipykernel_10764\\1613005046.py:10: VisibleDeprecationWarning: Creating an ndarray from ragged nested sequences (which is a list-or-tuple of lists-or-tuples-or ndarrays with different lengths or shapes) is deprecated. If you meant to do this, you must specify 'dtype=object' when creating the ndarray.\n",
      "  G90 = np.array(G90_list_np)\n",
      "C:\\Users\\Gunhee\\AppData\\Local\\Temp\\ipykernel_10764\\1613005046.py:11: VisibleDeprecationWarning: Creating an ndarray from ragged nested sequences (which is a list-or-tuple of lists-or-tuples-or ndarrays with different lengths or shapes) is deprecated. If you meant to do this, you must specify 'dtype=object' when creating the ndarray.\n",
      "  GV60 = np.array(GV60_list_np)\n",
      "C:\\Users\\Gunhee\\AppData\\Local\\Temp\\ipykernel_10764\\1613005046.py:12: VisibleDeprecationWarning: Creating an ndarray from ragged nested sequences (which is a list-or-tuple of lists-or-tuples-or ndarrays with different lengths or shapes) is deprecated. If you meant to do this, you must specify 'dtype=object' when creating the ndarray.\n",
      "  GV70 = np.array(GV70_list_np)\n",
      "C:\\Users\\Gunhee\\AppData\\Local\\Temp\\ipykernel_10764\\1613005046.py:13: VisibleDeprecationWarning: Creating an ndarray from ragged nested sequences (which is a list-or-tuple of lists-or-tuples-or ndarrays with different lengths or shapes) is deprecated. If you meant to do this, you must specify 'dtype=object' when creating the ndarray.\n",
      "  GV80 = np.array(GV80_list_np)\n",
      "C:\\Users\\Gunhee\\AppData\\Local\\Temp\\ipykernel_10764\\1613005046.py:14: VisibleDeprecationWarning: Creating an ndarray from ragged nested sequences (which is a list-or-tuple of lists-or-tuples-or ndarrays with different lengths or shapes) is deprecated. If you meant to do this, you must specify 'dtype=object' when creating the ndarray.\n",
      "  Malibu = np.array(Malibu_list_np)\n",
      "C:\\Users\\Gunhee\\AppData\\Local\\Temp\\ipykernel_10764\\1613005046.py:15: VisibleDeprecationWarning: Creating an ndarray from ragged nested sequences (which is a list-or-tuple of lists-or-tuples-or ndarrays with different lengths or shapes) is deprecated. If you meant to do this, you must specify 'dtype=object' when creating the ndarray.\n",
      "  Spark = np.array(Spark_list_np)\n",
      "C:\\Users\\Gunhee\\AppData\\Local\\Temp\\ipykernel_10764\\1613005046.py:16: VisibleDeprecationWarning: Creating an ndarray from ragged nested sequences (which is a list-or-tuple of lists-or-tuples-or ndarrays with different lengths or shapes) is deprecated. If you meant to do this, you must specify 'dtype=object' when creating the ndarray.\n",
      "  Tahoe = np.array(Tahoe_list_np)\n",
      "C:\\Users\\Gunhee\\AppData\\Local\\Temp\\ipykernel_10764\\1613005046.py:17: VisibleDeprecationWarning: Creating an ndarray from ragged nested sequences (which is a list-or-tuple of lists-or-tuples-or ndarrays with different lengths or shapes) is deprecated. If you meant to do this, you must specify 'dtype=object' when creating the ndarray.\n",
      "  Traverse = np.array(Traverse_list_np)\n",
      "C:\\Users\\Gunhee\\AppData\\Local\\Temp\\ipykernel_10764\\1613005046.py:18: VisibleDeprecationWarning: Creating an ndarray from ragged nested sequences (which is a list-or-tuple of lists-or-tuples-or ndarrays with different lengths or shapes) is deprecated. If you meant to do this, you must specify 'dtype=object' when creating the ndarray.\n",
      "  Tahoe = np.array(Tahoe_list_np)\n",
      "C:\\Users\\Gunhee\\AppData\\Local\\Temp\\ipykernel_10764\\1613005046.py:19: VisibleDeprecationWarning: Creating an ndarray from ragged nested sequences (which is a list-or-tuple of lists-or-tuples-or ndarrays with different lengths or shapes) is deprecated. If you meant to do this, you must specify 'dtype=object' when creating the ndarray.\n",
      "  Trax = np.array(Trax_list_np)\n"
     ]
    }
   ],
   "source": [
    "KorandoEmotion = np.array(KorandoEmotion_list_np)\n",
    "Tivoli = np.array(Tivoli_list_np)\n",
    "Torres = np.array(Torres_list_np)\n",
    "Rexton = np.array(Rexton_list_np)\n",
    "BOLT_EUV = np.array(BOLT_EUV_list_np)\n",
    "BOLT_EV =np.array(BOLT_EV_list_np)\n",
    "Equinox = np.array(Equinox_list_np)\n",
    "G70 = np.array(G70_list_np)\n",
    "G80 = np.array(G80_list_np)\n",
    "G90 = np.array(G90_list_np)\n",
    "GV60 = np.array(GV60_list_np)\n",
    "GV70 = np.array(GV70_list_np)\n",
    "GV80 = np.array(GV80_list_np)\n",
    "Malibu = np.array(Malibu_list_np)\n",
    "Spark = np.array(Spark_list_np)\n",
    "Tahoe = np.array(Tahoe_list_np)\n",
    "Traverse = np.array(Traverse_list_np)\n",
    "Tahoe = np.array(Tahoe_list_np)\n",
    "Trax = np.array(Trax_list_np)\n",
    "\n",
    "\n",
    "\n",
    "\n",
    "\n"
   ]
  },
  {
   "cell_type": "code",
   "execution_count": 9,
   "id": "64626d29",
   "metadata": {},
   "outputs": [],
   "source": [
    "def imgresize(model):\n",
    "    model_list = []\n",
    "    for i in range(len(model)):\n",
    "        img = cv2.resize(model[i], (224,224))\n",
    "        model_list.append(img)\n",
    "    return model_list"
   ]
  },
  {
   "cell_type": "code",
   "execution_count": 10,
   "id": "5829e797",
   "metadata": {},
   "outputs": [],
   "source": [
    "KorandoEmotion = imgresize(KorandoEmotion)\n",
    "Tivoli = imgresize(Tivoli_list_np)\n",
    "Torres = imgresize(Torres_list_np)\n",
    "Rexton = imgresize(Rexton_list_np)\n",
    "BOLT_EUV = imgresize(BOLT_EUV_list_np)\n",
    "BOLT_EV =imgresize(BOLT_EV_list_np)\n",
    "Equinox = imgresize(Equinox_list_np)\n",
    "G70 = imgresize(G70_list_np)\n",
    "G80 = imgresize(G80_list_np)\n",
    "G90 = imgresize(G90_list_np)\n",
    "GV60 = imgresize(GV60_list_np)\n",
    "GV70 = imgresize(GV70_list_np)\n",
    "GV80 = imgresize(GV80_list_np)\n",
    "Malibu = imgresize(Malibu_list_np)\n",
    "Spark = imgresize(Spark_list_np)\n",
    "Tahoe = imgresize(Tahoe_list_np)\n",
    "Traverse = imgresize(Traverse_list_np)\n",
    "Tahoe = imgresize(Tahoe_list_np)\n",
    "Trax = imgresize(Trax_list_np)"
   ]
  },
  {
   "cell_type": "code",
   "execution_count": 11,
   "id": "25e49502",
   "metadata": {},
   "outputs": [],
   "source": [
    "KorandoEmotion = np.array(KorandoEmotion)\n",
    "Tivoli = np.array(Tivoli)\n",
    "Torres = np.array(Torres)\n",
    "Rexton = np.array(Rexton)\n",
    "BOLT_EUV = np.array(BOLT_EUV)\n",
    "BOLT_EV =np.array(BOLT_EV)\n",
    "Equinox = np.array(Equinox)\n",
    "G70 = np.array(G70)\n",
    "G80 = np.array(G80)\n",
    "G90 = np.array(G90)\n",
    "GV60 = np.array(GV60)\n",
    "GV70 = np.array(GV70)\n",
    "GV80 = np.array(GV80)\n",
    "Malibu = np.array(Malibu)\n",
    "Spark = np.array(Spark)\n",
    "Tahoe = np.array(Tahoe)\n",
    "Traverse = np.array(Traverse)\n",
    "Tahoe = np.array(Tahoe)\n",
    "Trax = np.array(Trax)"
   ]
  },
  {
   "cell_type": "code",
   "execution_count": null,
   "id": "c5bc1c26",
   "metadata": {},
   "outputs": [],
   "source": [
    "Trax.shape"
   ]
  },
  {
   "cell_type": "code",
   "execution_count": null,
   "id": "9c4ee75f",
   "metadata": {
    "scrolled": true
   },
   "outputs": [],
   "source": [
    "_, ax = plt.subplots(10,30, figsize=(10,10))\n",
    "for i in range(300):\n",
    "    ax[i//30, i%30].imshow(Tahoe[i]/255.0)\n",
    "    ax[i//30][i%30].axis('off')\n",
    "plt.show()"
   ]
  },
  {
   "cell_type": "code",
   "execution_count": null,
   "id": "c69c4ea1",
   "metadata": {},
   "outputs": [],
   "source": []
  },
  {
   "cell_type": "code",
   "execution_count": 12,
   "id": "1b41027f",
   "metadata": {},
   "outputs": [],
   "source": [
    "# 전처리한 이미지 합치기\n",
    "import tensorflow as tf\n",
    "import torch"
   ]
  },
  {
   "cell_type": "code",
   "execution_count": 13,
   "id": "8cd7b20a",
   "metadata": {},
   "outputs": [],
   "source": [
    "KorandoEmotion = torch.Tensor(KorandoEmotion)\n",
    "Tivoli = torch.Tensor(Tivoli)\n",
    "Torres = torch.Tensor(Torres)\n",
    "Rexton = torch.Tensor(Rexton)\n",
    "BOLT_EUV = torch.Tensor(BOLT_EUV)\n",
    "BOLT_EV = torch.Tensor(BOLT_EV)\n",
    "Equinox = torch.Tensor(Equinox)\n",
    "G70 = torch.Tensor(G70)\n",
    "G80 = torch.Tensor(G80)\n",
    "G90 = torch.Tensor(G90)\n",
    "GV60 = torch.Tensor(GV60)\n",
    "GV70 = torch.Tensor(GV70)\n",
    "GV80 = torch.Tensor(GV80)\n",
    "Malibu = torch.Tensor(Malibu)\n",
    "Spark = torch.Tensor(Spark)\n",
    "Tahoe = torch.Tensor(Tahoe)\n",
    "Traverse = torch.Tensor(Traverse)\n",
    "Tahoe = torch.Tensor(Tahoe)\n",
    "Trax = torch.Tensor(Trax)"
   ]
  },
  {
   "cell_type": "code",
   "execution_count": 14,
   "id": "b55eca20",
   "metadata": {},
   "outputs": [],
   "source": [
    "carcat = torch.cat((KorandoEmotion,Tivoli,Torres,Rexton,BOLT_EUV,BOLT_EV,Equinox,\n",
    "                  G70,G80,G90,GV60,GV70,GV80,Malibu,Spark,Tahoe,Traverse,Tahoe,Trax),dim=0)"
   ]
  },
  {
   "cell_type": "code",
   "execution_count": 15,
   "id": "48c47275",
   "metadata": {},
   "outputs": [],
   "source": [
    "carcat_np = np.array(carcat)"
   ]
  },
  {
   "cell_type": "code",
   "execution_count": 16,
   "id": "c5e028c5",
   "metadata": {},
   "outputs": [],
   "source": [
    "from sklearn.model_selection import train_test_split"
   ]
  },
  {
   "cell_type": "code",
   "execution_count": null,
   "id": "f81f0c48",
   "metadata": {},
   "outputs": [],
   "source": [
    "# # 라벨 만들기\n",
    "# number_of_data = 19000\n",
    "# y = np.zeros(number_of_data, dtype=np.int32)\n",
    "# y[1000:2000] = 1\n",
    "# y[2000:3000] = 2\n",
    "# y[3000:4000] = 3\n",
    "# y[4000:5000] = 4\n",
    "# y[5000:6000] = 5\n",
    "# y[6000:7000] = 6\n",
    "# y[7000:8000] = 7\n",
    "# y[8000:9000] = 8\n",
    "# y[9000:10000] = 9\n",
    "# y[10000:11000] = 10\n",
    "# y[11000:12000] = 11\n",
    "# y[12000:13000] = 12\n",
    "# y[13000:14000] = 13\n",
    "# y[14000:15000] = 14\n",
    "# y[15000:16000] = 15\n",
    "# y[16000:17000] = 16\n",
    "# y[17000:18000] = 17\n",
    "# y[18000:19000] = 18\n",
    "\n"
   ]
  },
  {
   "cell_type": "code",
   "execution_count": 17,
   "id": "cfb72e56",
   "metadata": {},
   "outputs": [],
   "source": [
    "# 라벨 만들기\n",
    "number_of_data = 9500\n",
    "y = np.zeros(number_of_data, dtype=np.int32)\n",
    "y[500:1000] = 1\n",
    "y[1000:1500] = 2\n",
    "y[1500:2000] = 3\n",
    "y[2000:2500] = 4\n",
    "y[2500:3000] = 5\n",
    "y[3000:3500] = 6\n",
    "y[3500:4000] = 7\n",
    "y[4000:4500] = 8\n",
    "y[4500:5000] = 9\n",
    "y[5000:5500] = 10\n",
    "y[5500:6000] = 11\n",
    "y[6000:6500] = 12\n",
    "y[6500:7000] = 13\n",
    "y[7000:7500] = 14\n",
    "y[7500:8000] = 15\n",
    "y[8000:8500] = 16\n",
    "y[8500:9000] = 17\n",
    "y[9000:9500] = 18"
   ]
  },
  {
   "cell_type": "code",
   "execution_count": 21,
   "id": "6409c05a",
   "metadata": {},
   "outputs": [
    {
     "ename": "MemoryError",
     "evalue": "Unable to allocate 4.00 GiB for an array with shape (7125, 224, 224, 3) and data type float32",
     "output_type": "error",
     "traceback": [
      "\u001b[1;31m---------------------------------------------------------------------------\u001b[0m",
      "\u001b[1;31mMemoryError\u001b[0m                               Traceback (most recent call last)",
      "Input \u001b[1;32mIn [21]\u001b[0m, in \u001b[0;36m<cell line: 1>\u001b[1;34m()\u001b[0m\n\u001b[1;32m----> 1\u001b[0m x_train, x_test, y_train, y_test \u001b[38;5;241m=\u001b[39m \u001b[43mtrain_test_split\u001b[49m\u001b[43m(\u001b[49m\u001b[43mcarcat_np\u001b[49m\u001b[43m,\u001b[49m\u001b[43my\u001b[49m\u001b[43m \u001b[49m\u001b[43m,\u001b[49m\u001b[43mrandom_state\u001b[49m\u001b[38;5;241;43m=\u001b[39;49m\u001b[38;5;241;43m42\u001b[39;49m\u001b[43m,\u001b[49m\u001b[43mtest_size\u001b[49m\u001b[38;5;241;43m=\u001b[39;49m\u001b[38;5;241;43m0.25\u001b[39;49m\u001b[43m)\u001b[49m\n",
      "File \u001b[1;32mC:\\Anaconda3\\lib\\site-packages\\sklearn\\model_selection\\_split.py:2471\u001b[0m, in \u001b[0;36mtrain_test_split\u001b[1;34m(test_size, train_size, random_state, shuffle, stratify, *arrays)\u001b[0m\n\u001b[0;32m   2467\u001b[0m     cv \u001b[38;5;241m=\u001b[39m CVClass(test_size\u001b[38;5;241m=\u001b[39mn_test, train_size\u001b[38;5;241m=\u001b[39mn_train, random_state\u001b[38;5;241m=\u001b[39mrandom_state)\n\u001b[0;32m   2469\u001b[0m     train, test \u001b[38;5;241m=\u001b[39m \u001b[38;5;28mnext\u001b[39m(cv\u001b[38;5;241m.\u001b[39msplit(X\u001b[38;5;241m=\u001b[39marrays[\u001b[38;5;241m0\u001b[39m], y\u001b[38;5;241m=\u001b[39mstratify))\n\u001b[1;32m-> 2471\u001b[0m \u001b[38;5;28;01mreturn\u001b[39;00m \u001b[38;5;28;43mlist\u001b[39;49m\u001b[43m(\u001b[49m\n\u001b[0;32m   2472\u001b[0m \u001b[43m    \u001b[49m\u001b[43mchain\u001b[49m\u001b[38;5;241;43m.\u001b[39;49m\u001b[43mfrom_iterable\u001b[49m\u001b[43m(\u001b[49m\n\u001b[0;32m   2473\u001b[0m \u001b[43m        \u001b[49m\u001b[43m(\u001b[49m\u001b[43m_safe_indexing\u001b[49m\u001b[43m(\u001b[49m\u001b[43ma\u001b[49m\u001b[43m,\u001b[49m\u001b[43m \u001b[49m\u001b[43mtrain\u001b[49m\u001b[43m)\u001b[49m\u001b[43m,\u001b[49m\u001b[43m \u001b[49m\u001b[43m_safe_indexing\u001b[49m\u001b[43m(\u001b[49m\u001b[43ma\u001b[49m\u001b[43m,\u001b[49m\u001b[43m \u001b[49m\u001b[43mtest\u001b[49m\u001b[43m)\u001b[49m\u001b[43m)\u001b[49m\u001b[43m \u001b[49m\u001b[38;5;28;43;01mfor\u001b[39;49;00m\u001b[43m \u001b[49m\u001b[43ma\u001b[49m\u001b[43m \u001b[49m\u001b[38;5;129;43;01min\u001b[39;49;00m\u001b[43m \u001b[49m\u001b[43marrays\u001b[49m\n\u001b[0;32m   2474\u001b[0m \u001b[43m    \u001b[49m\u001b[43m)\u001b[49m\n\u001b[0;32m   2475\u001b[0m \u001b[43m\u001b[49m\u001b[43m)\u001b[49m\n",
      "File \u001b[1;32mC:\\Anaconda3\\lib\\site-packages\\sklearn\\model_selection\\_split.py:2473\u001b[0m, in \u001b[0;36m<genexpr>\u001b[1;34m(.0)\u001b[0m\n\u001b[0;32m   2467\u001b[0m     cv \u001b[38;5;241m=\u001b[39m CVClass(test_size\u001b[38;5;241m=\u001b[39mn_test, train_size\u001b[38;5;241m=\u001b[39mn_train, random_state\u001b[38;5;241m=\u001b[39mrandom_state)\n\u001b[0;32m   2469\u001b[0m     train, test \u001b[38;5;241m=\u001b[39m \u001b[38;5;28mnext\u001b[39m(cv\u001b[38;5;241m.\u001b[39msplit(X\u001b[38;5;241m=\u001b[39marrays[\u001b[38;5;241m0\u001b[39m], y\u001b[38;5;241m=\u001b[39mstratify))\n\u001b[0;32m   2471\u001b[0m \u001b[38;5;28;01mreturn\u001b[39;00m \u001b[38;5;28mlist\u001b[39m(\n\u001b[0;32m   2472\u001b[0m     chain\u001b[38;5;241m.\u001b[39mfrom_iterable(\n\u001b[1;32m-> 2473\u001b[0m         (\u001b[43m_safe_indexing\u001b[49m\u001b[43m(\u001b[49m\u001b[43ma\u001b[49m\u001b[43m,\u001b[49m\u001b[43m \u001b[49m\u001b[43mtrain\u001b[49m\u001b[43m)\u001b[49m, _safe_indexing(a, test)) \u001b[38;5;28;01mfor\u001b[39;00m a \u001b[38;5;129;01min\u001b[39;00m arrays\n\u001b[0;32m   2474\u001b[0m     )\n\u001b[0;32m   2475\u001b[0m )\n",
      "File \u001b[1;32mC:\\Anaconda3\\lib\\site-packages\\sklearn\\utils\\__init__.py:361\u001b[0m, in \u001b[0;36m_safe_indexing\u001b[1;34m(X, indices, axis)\u001b[0m\n\u001b[0;32m    359\u001b[0m     \u001b[38;5;28;01mreturn\u001b[39;00m _pandas_indexing(X, indices, indices_dtype, axis\u001b[38;5;241m=\u001b[39maxis)\n\u001b[0;32m    360\u001b[0m \u001b[38;5;28;01melif\u001b[39;00m \u001b[38;5;28mhasattr\u001b[39m(X, \u001b[38;5;124m\"\u001b[39m\u001b[38;5;124mshape\u001b[39m\u001b[38;5;124m\"\u001b[39m):\n\u001b[1;32m--> 361\u001b[0m     \u001b[38;5;28;01mreturn\u001b[39;00m \u001b[43m_array_indexing\u001b[49m\u001b[43m(\u001b[49m\u001b[43mX\u001b[49m\u001b[43m,\u001b[49m\u001b[43m \u001b[49m\u001b[43mindices\u001b[49m\u001b[43m,\u001b[49m\u001b[43m \u001b[49m\u001b[43mindices_dtype\u001b[49m\u001b[43m,\u001b[49m\u001b[43m \u001b[49m\u001b[43maxis\u001b[49m\u001b[38;5;241;43m=\u001b[39;49m\u001b[43maxis\u001b[49m\u001b[43m)\u001b[49m\n\u001b[0;32m    362\u001b[0m \u001b[38;5;28;01melse\u001b[39;00m:\n\u001b[0;32m    363\u001b[0m     \u001b[38;5;28;01mreturn\u001b[39;00m _list_indexing(X, indices, indices_dtype)\n",
      "File \u001b[1;32mC:\\Anaconda3\\lib\\site-packages\\sklearn\\utils\\__init__.py:185\u001b[0m, in \u001b[0;36m_array_indexing\u001b[1;34m(array, key, key_dtype, axis)\u001b[0m\n\u001b[0;32m    183\u001b[0m \u001b[38;5;28;01mif\u001b[39;00m \u001b[38;5;28misinstance\u001b[39m(key, \u001b[38;5;28mtuple\u001b[39m):\n\u001b[0;32m    184\u001b[0m     key \u001b[38;5;241m=\u001b[39m \u001b[38;5;28mlist\u001b[39m(key)\n\u001b[1;32m--> 185\u001b[0m \u001b[38;5;28;01mreturn\u001b[39;00m \u001b[43marray\u001b[49m\u001b[43m[\u001b[49m\u001b[43mkey\u001b[49m\u001b[43m]\u001b[49m \u001b[38;5;28;01mif\u001b[39;00m axis \u001b[38;5;241m==\u001b[39m \u001b[38;5;241m0\u001b[39m \u001b[38;5;28;01melse\u001b[39;00m array[:, key]\n",
      "\u001b[1;31mMemoryError\u001b[0m: Unable to allocate 4.00 GiB for an array with shape (7125, 224, 224, 3) and data type float32"
     ]
    }
   ],
   "source": [
    "x_train, x_test, y_train, y_test = train_test_split(carcat_np,y ,random_state=42,test_size=0.25) # 넘파이"
   ]
  },
  {
   "cell_type": "code",
   "execution_count": null,
   "id": "ed8420a1",
   "metadata": {},
   "outputs": [],
   "source": [
    "# 스케일링\n",
    "x_train = x_train.astype(float) / 255.0\n",
    "x_test = x_test.astype(float) / 255.0"
   ]
  },
  {
   "cell_type": "code",
   "execution_count": null,
   "id": "b390ec8a",
   "metadata": {},
   "outputs": [],
   "source": [
    "xy = (x_train, x_test, y_train, y_test)\n"
   ]
  },
  {
   "cell_type": "code",
   "execution_count": 20,
   "id": "d682784a",
   "metadata": {},
   "outputs": [],
   "source": [
    "np.save(\"C:/Users/Gunhee/test/LASTPRO/car224_19\", carcat_np)"
   ]
  }
 ],
 "metadata": {
  "kernelspec": {
   "display_name": "Python 3 (ipykernel)",
   "language": "python",
   "name": "python3"
  },
  "language_info": {
   "codemirror_mode": {
    "name": "ipython",
    "version": 3
   },
   "file_extension": ".py",
   "mimetype": "text/x-python",
   "name": "python",
   "nbconvert_exporter": "python",
   "pygments_lexer": "ipython3",
   "version": "3.9.12"
  }
 },
 "nbformat": 4,
 "nbformat_minor": 5
}
