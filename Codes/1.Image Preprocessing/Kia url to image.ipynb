{
 "cells": [
  {
   "cell_type": "code",
   "execution_count": 10,
   "id": "cfb0ad70",
   "metadata": {},
   "outputs": [],
   "source": [
    "import pandas as pd\n",
    "import numpy as np\n",
    "from urllib.request import Request, urlopen\n",
    "import cv2\n",
    "import ssl\n",
    "import matplotlib.pyplot as plt"
   ]
  },
  {
   "cell_type": "code",
   "execution_count": 33,
   "id": "fdf54ea5",
   "metadata": {},
   "outputs": [],
   "source": [
    "def url_to_image(root_url,idx,carname):\n",
    "    \n",
    "    def to_image(url, readFlag=cv2.IMREAD_COLOR):\n",
    "        req = Request(url, headers={'User-Agent': 'Mozilla/5.0'})\n",
    "        gcontext = ssl.SSLContext()\n",
    "        webpage = urlopen(req,context=gcontext,timeout=10)\n",
    "        image = np.asarray(bytearray(webpage.read()), dtype=\"uint8\")\n",
    "        image = cv2.imdecode(image, cv2.IMREAD_COLOR)\n",
    "\n",
    "        return image\n",
    "    \n",
    "    num = 1\n",
    "    for i in idx:\n",
    "        image = to_image(root_url + f\"{i}.png\")\n",
    "        image = cv2.resize(image,(128,128))\n",
    "        cv2.imwrite(f'car project/{carname}/{str(num)}.jpg',image)\n",
    "        num += 1"
   ]
  },
  {
   "cell_type": "code",
   "execution_count": 34,
   "id": "35897f95",
   "metadata": {},
   "outputs": [],
   "source": [
    "idx1 = ['001','002','003','004','005','007','008','009','010',\n",
    "   '011','013','014','015','016','017','019','020','021','022',\n",
    "   '023','025','026','027','028','029','031','032','033','034',\n",
    "   '035','037','038','039','040','041','043','044','045','046',\n",
    "   '047','049','050','051','052','053','055','056','057','058',\n",
    "   '059','061','062','063','064','065','067','068','069','070','071']"
   ]
  },
  {
   "cell_type": "code",
   "execution_count": 35,
   "id": "fd740c72",
   "metadata": {},
   "outputs": [],
   "source": [
    "idx2 = ['01','02','03','04','05','07','08','09','10',\n",
    "   '11','13','14','15','16','17','19','20','21','22',\n",
    "   '23','25','26','27','28','29','31','32','33','34',\n",
    "   '35','37','38','39','40','41','43','44','45','46',\n",
    "   '47','49','50','51','52','53','55','56','57','58',\n",
    "   '59','61','62','63','64','65','67','68','69','70','71']"
   ]
  },
  {
   "cell_type": "code",
   "execution_count": 36,
   "id": "f423c8c1",
   "metadata": {},
   "outputs": [],
   "source": [
    "url_to_image(\"https://cdnv1.inventis.co.kr/KIA/SG2/EV_PROD/2022/K1/Quotation/PC/Exterior/BG002/TOW5ZHZ7ZGG163_SWP_CCV/LHD/\",idx1,'NiroEV')"
   ]
  },
  {
   "cell_type": "code",
   "execution_count": 37,
   "id": "26de8f9c",
   "metadata": {},
   "outputs": [],
   "source": [
    "url_to_image(\"https://www.kia.com/content/dam/kwp/kr/ko/configurator/ev6/trim/exterior/ev6/swp/swp_\",idx2,'EV6')"
   ]
  },
  {
   "cell_type": "code",
   "execution_count": 38,
   "id": "440fa16c",
   "metadata": {},
   "outputs": [],
   "source": [
    "url_to_image(\"https://www.kia.com/content/dam/kwp/kr/ko/configurator/morning/trim/exterior/ud/ud_\",idx2,'Morning')"
   ]
  },
  {
   "cell_type": "code",
   "execution_count": 39,
   "id": "1350bc88",
   "metadata": {},
   "outputs": [],
   "source": [
    "url_to_image(\"https://www.kia.com/content/dam/kwp/kr/ko/configurator/ray/trim/exterior/ud/ud_\",idx2,'Ray')"
   ]
  },
  {
   "cell_type": "code",
   "execution_count": 41,
   "id": "e1007a0e",
   "metadata": {},
   "outputs": [],
   "source": [
    "url_to_image(\"https://www.kia.com/content/dam/kwp/kr/ko/configurator/k5/trim/exterior/ice/swp/swp_\",idx2,'K5')"
   ]
  },
  {
   "cell_type": "code",
   "execution_count": 44,
   "id": "a6069145",
   "metadata": {},
   "outputs": [],
   "source": [
    "url_to_image(\"https://cdnv1.inventis.co.kr/KIA/GL3/ICE_PROD/2022/K1/Quotation/PC/Exterior/BG002/GGS4J9A1KHH1C2_SWP_WK/LHD/\",idx1,'K8')"
   ]
  },
  {
   "cell_type": "code",
   "execution_count": 45,
   "id": "8f525857",
   "metadata": {},
   "outputs": [],
   "source": [
    "url_to_image(\"https://www.kia.com/content/dam/kwp/kr/ko/configurator/stinger/trim/exterior/h4r/h4r_\",idx2,'Stinger')"
   ]
  },
  {
   "cell_type": "code",
   "execution_count": 46,
   "id": "4565c079",
   "metadata": {},
   "outputs": [],
   "source": [
    "url_to_image(\"https://www.kia.com/content/dam/kwp/kr/ko/configurator/k9/trim/exterior/swp/swp_\",idx2,'K9')"
   ]
  },
  {
   "cell_type": "code",
   "execution_count": 47,
   "id": "783419c6",
   "metadata": {},
   "outputs": [],
   "source": [
    "url_to_image(\"https://www.kia.com/content/dam/kwp/kr/ko/configurator/seltos/trim/exterior/swp/swp_\",idx2,'Seltos')"
   ]
  },
  {
   "cell_type": "code",
   "execution_count": 48,
   "id": "5b2088db",
   "metadata": {},
   "outputs": [],
   "source": [
    "url_to_image(\"https://www.kia.com/content/dam/kwp/kr/ko/configurator/sportage/trim/exterior/ice/swp/swp_\",idx2,'Sportage')"
   ]
  },
  {
   "cell_type": "code",
   "execution_count": 49,
   "id": "5146bffa",
   "metadata": {},
   "outputs": [],
   "source": [
    "url_to_image(\"https://www.kia.com/content/dam/kwp/kr/ko/configurator/sorento/trim/exterior/swp/swp_\",idx2,'Sorento')"
   ]
  },
  {
   "cell_type": "code",
   "execution_count": 50,
   "id": "15aa3e26",
   "metadata": {},
   "outputs": [],
   "source": [
    "url_to_image(\"https://www.kia.com/content/dam/kwp/kr/ko/configurator/mohave/trim/exterior/swp/swp_\",idx2,'Mohave')"
   ]
  },
  {
   "cell_type": "code",
   "execution_count": 51,
   "id": "04fe1b3a",
   "metadata": {},
   "outputs": [],
   "source": [
    "url_to_image(\"https://www.kia.com/content/dam/kwp/kr/ko/configurator/canival/trim/exteroir/swp/swp_\",idx2,'Canival')"
   ]
  },
  {
   "cell_type": "code",
   "execution_count": null,
   "id": "3ca43b7e",
   "metadata": {},
   "outputs": [],
   "source": []
  }
 ],
 "metadata": {
  "kernelspec": {
   "display_name": "Python 3 (ipykernel)",
   "language": "python",
   "name": "python3"
  },
  "language_info": {
   "codemirror_mode": {
    "name": "ipython",
    "version": 3
   },
   "file_extension": ".py",
   "mimetype": "text/x-python",
   "name": "python",
   "nbconvert_exporter": "python",
   "pygments_lexer": "ipython3",
   "version": "3.7.0"
  }
 },
 "nbformat": 4,
 "nbformat_minor": 5
}
