{
 "cells": [
  {
   "cell_type": "code",
   "execution_count": null,
   "metadata": {},
   "outputs": [],
   "source": [
    "import time\n",
    "import urllib.request\n",
    "from selenium import webdriver\n",
    "from selenium.webdriver.common.by import By\n",
    "from selenium.webdriver.chrome.service import Service\n",
    "from selenium.webdriver.common.keys import Keys\n",
    "from webdriver_manager.chrome import ChromeDriverManager\n",
    "from bs4 import BeautifulSoup\n",
    "import requests\n"
   ]
  },
  {
   "cell_type": "code",
   "execution_count": 73,
   "metadata": {},
   "outputs": [],
   "source": [
    "############################################################\n",
    "######################### 함수로 구현 #########################\n",
    "############################################################\n",
    "\n",
    "# 함수로 만들어서 나머지 모델 이미지 크롤링\n",
    "def GoogleImgCrawling(model):\n",
    "# 1. 이미지 저장할 상위 폴더 생성\n",
    "    if not os.path.isdir(f\"{model}/\"):\n",
    "        os.makedirs(f\"{model}/\")\n",
    "\n",
    "# 2. 크롬 웹드라이버 연결\n",
    "    driver = webdriver.Chrome(ChromeDriverManager().install())\n",
    "    driver.get(\"https://www.google.co.kr/imghp?hl=ko\")\n",
    "\n",
    "\n",
    "# 3. 검색어 입력하기\n",
    "    search = model\n",
    "    elem = driver.find_element(By.NAME, \"q\")\n",
    "    elem.send_keys(search)\n",
    "    elem.send_keys(Keys.RETURN)\n",
    "\n",
    "\n",
    "# 4. 스크롤 끝까지 내리기\n",
    "    SCROLL_PAUSE_TIME = 2\n",
    "\n",
    "    last_height = driver.execute_script(\"return document.body.scrollHeight\")\n",
    "\n",
    "    while True:\n",
    "        driver.execute_script(\"window.scrollTo(0, document.body.scrollHeight);\")\n",
    "        time.sleep(SCROLL_PAUSE_TIME)\n",
    "        new_height = driver.execute_script(\"return document.body.scrollHeight\")\n",
    "\n",
    "        if new_height == last_height:\n",
    "            try:\n",
    "                driver.find_element(By.CSS_SELECTOR, \".mye4qd\").click()\n",
    "            except:\n",
    "                break\n",
    "        last_height = new_height\n",
    "\n",
    "\n",
    "\n",
    "# 5. 이미지 찾아서 원본 파일로 저장하기\n",
    "    images = driver.find_elements(By.CSS_SELECTOR, \".rg_i.Q4LuWd\")\n",
    "    count = 1\n",
    "\n",
    "    for image in images:\n",
    "        try:\n",
    "            image.click()\n",
    "            time.sleep(2)\n",
    "            image = image.get_attribute('src')\n",
    "            urllib.request.urlretrieve(image, f\"{model}/\" + search + \"_\" + str(count) + \".jpg\")\n",
    "            print(f\"Image saved: {model}_{count}.jpg\")\n",
    "            count += 1\n",
    "        except:\n",
    "            pass\n",
    "\n",
    "    driver.close()"
   ]
  },
  {
   "cell_type": "code",
   "execution_count": null,
   "metadata": {},
   "outputs": [],
   "source": [
    "GoogleImgCrawling('The all-new GRANDEUR')"
   ]
  }
 ],
 "metadata": {
  "kernelspec": {
   "display_name": "Python 3.9.13 ('machine')",
   "language": "python",
   "name": "python3"
  },
  "language_info": {
   "codemirror_mode": {
    "name": "ipython",
    "version": 3
   },
   "file_extension": ".py",
   "mimetype": "text/x-python",
   "name": "python",
   "nbconvert_exporter": "python",
   "pygments_lexer": "ipython3",
   "version": "3.9.13"
  },
  "orig_nbformat": 4,
  "vscode": {
   "interpreter": {
    "hash": "ba36d0bac3973a45270dac29dd7867478d264cacedda49a3de9c10c6ae4d60ef"
   }
  }
 },
 "nbformat": 4,
 "nbformat_minor": 2
}
