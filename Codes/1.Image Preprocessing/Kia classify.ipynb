{
 "cells": [
  {
   "cell_type": "code",
   "execution_count": 1,
   "id": "fcb0fab5",
   "metadata": {},
   "outputs": [],
   "source": [
    "import pandas as pd\n",
    "import numpy as np\n",
    "import cv2\n",
    "import matplotlib.pyplot as plt\n",
    "from PIL import Image"
   ]
  },
  {
   "cell_type": "code",
   "execution_count": 2,
   "id": "e36d0bb7",
   "metadata": {},
   "outputs": [],
   "source": [
    "kia = np.load(('car project/kia.npy'),allow_pickle='TRUE').item()"
   ]
  },
  {
   "cell_type": "code",
   "execution_count": 3,
   "id": "04dc3a92",
   "metadata": {},
   "outputs": [
    {
     "data": {
      "text/plain": [
       "dict_keys(['니로 EV', '니로 플러스', 'EV6', 'EV6 GT', '봉고Ⅲ EV', '봉고III 탑차/윙바디 EV', '봉고III 파워게이트 EV', '모닝', 'K3', 'K3 GT', 'K5', 'K8', '기아 레이', '스팅어', 'K9', '셀토스', '니로', '스포티지', '쏘렌토', '모하비', '카니발', '카니발 하이리무진', 'K8택시', '봉고Ⅲ 트럭', '봉고III 탑차/윙바디/워크스루밴', '봉고III 덤프', '봉고III 파워게이트', '봉고III 와이드트럭/홈로리/활어수송차', '그랜버드'])"
      ]
     },
     "execution_count": 3,
     "metadata": {},
     "output_type": "execute_result"
    }
   ],
   "source": [
    "kia.keys()"
   ]
  },
  {
   "cell_type": "code",
   "execution_count": 4,
   "id": "752c6b8b",
   "metadata": {},
   "outputs": [],
   "source": [
    "def classify_car(img,carList):  # np.array 형태의 이미지를 받아서 차량으로 분류되면 리스트에 저장하는 함수\n",
    "    w = 'yolov3.weights'  # 본인 컴퓨터 경로로 설정\n",
    "    c = 'yolov3.cfg'\n",
    "    try:\n",
    "        yolo_model = cv2.dnn.readNet(w,c)  # 기존에 학습된 yolo 모델 불러오기\n",
    "        blob = cv2.dnn.blobFromImage(img,1.0/255,(128,128),(0,0,0),swapRB=True,crop=False)  # 이미지를 blob형식으로 변경\n",
    "        yolo_model.setInput(blob)  # blob형식으로 변경한 이미지를 input으로 yolo 모델에 넣어준다\n",
    "    \n",
    "        # yolo 모델에 사용된 layer 중 yolo에 해당하는 layer만 가져오기\n",
    "        layer_names = yolo_model.getLayerNames()\n",
    "        out_layers = [layer_names[i-1] for i in yolo_model.getUnconnectedOutLayers()]   \n",
    "        outputs = yolo_model.forward(out_layers)\n",
    "\n",
    "        class_ids, confidences, boxes = [],[],[]\n",
    "        height, width, channels = img.shape\n",
    "\n",
    "        # 확률이 0.5를 넘는 바운딩 박스를 생성하고 모음\n",
    "        for output in outputs:\n",
    "          for vec85 in output:\n",
    "            scores = vec85[5:]\n",
    "            class_id = np.argmax(scores)\n",
    "            confidence = scores[class_id]\n",
    "            if confidence > 0.5:  # 신뢰도가 50% 초과인 경우만 취급\n",
    "              centerx,centery = int(vec85[0]*width), int(vec85[1]*height)\n",
    "              # 영상 크기로 변환\n",
    "              w,h = int(vec85[2]*width), int(vec85[3]*height)\n",
    "              x,y = int(centerx - w / 2), int(centery - h / 2)\n",
    "              boxes.append([x,y,w,h])\n",
    "              confidences.append(float(confidence))\n",
    "              class_ids.append(class_id)\n",
    "\n",
    "        indexes = cv2.dnn.NMSBoxes(boxes,confidences,0.5,0.4)  # 분류된 것 중에 최대인 것만 남김\n",
    "\n",
    "        classes = []\n",
    "        with open('coco.names.txt', 'r') as f:\n",
    "          classes = [line.strip() for line in f.readlines()]\n",
    "\n",
    "        for i in indexes:\n",
    "            if classes[class_ids[i]] == 'car':  # 분류명이 car일 때 리스트에 저장\n",
    "                x,y,w,h = boxes[i]\n",
    "                if all([w >= width * 0.5, h >= height * 0.5]):\n",
    "                    img = cv2.resize(img, (128,128))  # 이미지 사이즈 (128,128)로 변경\n",
    "                    carList.append(img)\n",
    "                    break\n",
    "    except:\n",
    "        return"
   ]
  },
  {
   "cell_type": "code",
   "execution_count": 5,
   "id": "26c06653",
   "metadata": {},
   "outputs": [],
   "source": [
    "kiakia = {}"
   ]
  },
  {
   "cell_type": "code",
   "execution_count": 6,
   "id": "1d546782",
   "metadata": {},
   "outputs": [],
   "source": [
    "want = ['니로 EV', 'EV6', 'K5', '카니발', '스포티지', '스팅어', '셀토스', '쏘렌토', '모하비', '모닝', 'K9', 'K3']"
   ]
  },
  {
   "cell_type": "code",
   "execution_count": 7,
   "id": "e4737b24",
   "metadata": {},
   "outputs": [],
   "source": [
    "for i in want:\n",
    "    ccc = []\n",
    "    for j in range(len(kia[i])):\n",
    "        classify_car(kia[i][j],ccc)\n",
    "    kiakia[i] = ccc"
   ]
  },
  {
   "cell_type": "code",
   "execution_count": 8,
   "id": "f5aa46a8",
   "metadata": {},
   "outputs": [
    {
     "data": {
      "text/plain": [
       "dict_keys(['니로 EV', 'EV6', 'K5', '카니발', '스포티지', '스팅어', '셀토스', '쏘렌토', '모하비', '모닝', 'K9', 'K3'])"
      ]
     },
     "execution_count": 8,
     "metadata": {},
     "output_type": "execute_result"
    }
   ],
   "source": [
    "kiakia.keys()"
   ]
  },
  {
   "cell_type": "code",
   "execution_count": 9,
   "id": "be587dae",
   "metadata": {},
   "outputs": [],
   "source": [
    "np.save('car project/kiakia.npy', kiakia)"
   ]
  },
  {
   "cell_type": "code",
   "execution_count": null,
   "id": "197528d1",
   "metadata": {},
   "outputs": [],
   "source": []
  }
 ],
 "metadata": {
  "kernelspec": {
   "display_name": "Python 3 (ipykernel)",
   "language": "python",
   "name": "python3"
  },
  "language_info": {
   "codemirror_mode": {
    "name": "ipython",
    "version": 3
   },
   "file_extension": ".py",
   "mimetype": "text/x-python",
   "name": "python",
   "nbconvert_exporter": "python",
   "pygments_lexer": "ipython3",
   "version": "3.7.0"
  }
 },
 "nbformat": 4,
 "nbformat_minor": 5
}
