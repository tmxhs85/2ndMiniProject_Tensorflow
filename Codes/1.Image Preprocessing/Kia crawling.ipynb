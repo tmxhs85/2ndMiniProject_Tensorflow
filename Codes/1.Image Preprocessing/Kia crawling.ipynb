{
 "cells": [
  {
   "cell_type": "code",
   "execution_count": 1,
   "id": "f703cef7",
   "metadata": {},
   "outputs": [],
   "source": [
    "import pandas as pd\n",
    "import numpy as np\n",
    "from urllib import request\n",
    "from bs4 import BeautifulSoup\n",
    "\n",
    "from urllib.request import Request, urlopen\n",
    "\n",
    "import selenium\n",
    "from selenium import webdriver\n",
    "from selenium.webdriver.common.by import By\n",
    "\n",
    "from selenium.webdriver.common.keys import Keys\n",
    "\n",
    "import time\n",
    "\n",
    "import urllib\n",
    "import cv2\n",
    "\n",
    "from tensorflow.keras.preprocessing import image\n",
    "\n",
    "import matplotlib.pyplot as plt\n",
    "\n",
    "import ssl"
   ]
  },
  {
   "cell_type": "code",
   "execution_count": 2,
   "id": "20b8044e",
   "metadata": {},
   "outputs": [],
   "source": [
    "def find_kia_car():  # kia 홈페이지에서 현재 판매중인 차량 목록 가져오는 함수\n",
    "    driver = webdriver.Chrome('chromedriver')\n",
    "    url_list = ['ev', 'sedan', 'suv', 'commercial']  # kia 홈페이지에서 차량 분류한 방식\n",
    "    \n",
    "    global kia_list\n",
    "    kia_list = []\n",
    "    \n",
    "    for i in range(len(url_list)):\n",
    "        url = 'https://www.kia.com/kr/vehicles/' + url_list[i]  # 분류에 따라 url 접속\n",
    "        driver.get(url)\n",
    "        html = driver.page_source\n",
    "        soup = BeautifulSoup(html, 'html.parser')\n",
    "        # 차량 이름이 포함된 태그 select 후 변수로 저장\n",
    "        info = soup.select('#contents > div > div > div > div.vehicis-cate__tabpanel-wrap.aem-Grid--12.aem-Grid--default--12')\n",
    "\n",
    "        idx = 0\n",
    "        while(True):\n",
    "            try:\n",
    "                # 차량 이름이 포함된 태그를 select한 변수에서 차량 이름만 가져와서 리스트에 저장\n",
    "                kia_list.append(info[0].select('.vc-card__title')[idx].text.replace('\\n',''))\n",
    "                idx += 1\n",
    "            except:\n",
    "                break\n",
    "    \n",
    "    driver.close()\n",
    "    \n",
    "    return kia_list"
   ]
  },
  {
   "cell_type": "code",
   "execution_count": 3,
   "id": "8c79e267",
   "metadata": {},
   "outputs": [
    {
     "data": {
      "text/plain": [
       "['니로 EV',\n",
       " '니로 플러스',\n",
       " 'EV6',\n",
       " 'EV6 GT',\n",
       " '봉고Ⅲ EV',\n",
       " '봉고III 탑차/윙바디 EV',\n",
       " '봉고III 파워게이트 EV',\n",
       " '모닝',\n",
       " '레이',\n",
       " 'K3',\n",
       " 'K3 GT',\n",
       " 'K5',\n",
       " 'K8',\n",
       " '스팅어',\n",
       " 'K9',\n",
       " '셀토스',\n",
       " '니로',\n",
       " '스포티지',\n",
       " '쏘렌토',\n",
       " '모하비',\n",
       " '카니발',\n",
       " '카니발 하이리무진',\n",
       " 'K8택시',\n",
       " '봉고Ⅲ 트럭',\n",
       " '봉고III 탑차/윙바디/워크스루밴',\n",
       " '봉고III 덤프',\n",
       " '봉고III 파워게이트',\n",
       " '봉고III 와이드트럭/홈로리/활어수송차',\n",
       " '그랜버드']"
      ]
     },
     "execution_count": 3,
     "metadata": {},
     "output_type": "execute_result"
    }
   ],
   "source": [
    "find_kia_car()"
   ]
  },
  {
   "cell_type": "code",
   "execution_count": 4,
   "id": "1aa0f4a5",
   "metadata": {},
   "outputs": [],
   "source": [
    "def selenium_scroll(driver):  # 구글 검색 후 스크롤 내리는 함수\n",
    "    SCROLL_PAUSE_SEC = 3\n",
    "    i = 0\n",
    "    while i<10:  # 스크롤 내린 후 더보기 버튼이 있다면 클릭\n",
    "        i += 1    # 없으면 다시 스크롤 내리기 (10번 반복)\n",
    "        driver.execute_script(\"window.scrollTo(0, document.body.scrollHeight);\")\n",
    "        time.sleep(SCROLL_PAUSE_SEC)\n",
    "        try:\n",
    "            btn =  driver.find_element(By.CSS_SELECTOR,'#islmp > div > div > div > div.gBPM8 > div.qvfT1 > div.YstHxe > input')\n",
    "            btn.click()\n",
    "        except:\n",
    "            pass"
   ]
  },
  {
   "cell_type": "code",
   "execution_count": 5,
   "id": "7f5ac9b8",
   "metadata": {},
   "outputs": [],
   "source": [
    "def url_to_image(url, readFlag=cv2.IMREAD_COLOR):  # 이미지 url을 np.array로 바꿔주는 함수\n",
    "    req = Request(url, headers={'User-Agent': 'Mozilla/5.0'})\n",
    "    gcontext = ssl.SSLContext()\n",
    "    webpage = urlopen(req,context=gcontext,timeout=10)  # 정상적으로 열리지 않는 url이 있어서 timeout 옵션 부여\n",
    "    image = np.asarray(bytearray(webpage.read()), dtype=\"uint8\")\n",
    "    image = cv2.imdecode(image, cv2.IMREAD_COLOR)\n",
    "\n",
    "    return image"
   ]
  },
  {
   "cell_type": "code",
   "execution_count": 6,
   "id": "967180d6",
   "metadata": {},
   "outputs": [],
   "source": [
    "kia = {}"
   ]
  },
  {
   "cell_type": "code",
   "execution_count": 6,
   "id": "47c81d6d",
   "metadata": {},
   "outputs": [],
   "source": [
    "def kia_crawling(carname):  # 크롤링하여 dictionary 형태로 저장하는 함수\n",
    "    kia[carname] = []\n",
    "    \n",
    "    while(True):\n",
    "        try:\n",
    "            driver = webdriver.Chrome('chromedriver')  # 1. 구글 이미지 접속\n",
    "            url = 'https://www.google.com/imghp'\n",
    "            driver.get(url)\n",
    "            break\n",
    "        except:\n",
    "            pass\n",
    "        \n",
    "    browser = driver.find_element(By.NAME,\"q\")  # 2. carname을 매개변수로 받아서 검색\n",
    "    browser.send_keys(carname)\n",
    "    browser.send_keys('\\n')\n",
    "    driver.implicitly_wait(3)\n",
    "    \n",
    "    selenium_scroll(driver)  # 3. 스크롤 끝까지 내리기\n",
    "       \n",
    "    time.sleep(3)\n",
    "    \n",
    "    html = driver.page_source  # 4. 스크롤 끝까지 내린 상태에서 페이지 소스 변수로 저장\n",
    "    soup = BeautifulSoup(html, 'html.parser')\n",
    "    \n",
    "    imgs = driver.find_elements(By.CSS_SELECTOR, '#islrg > div.islrc > div a.wXeWr.islib.nfEiy')\n",
    "       \n",
    "    for i in range(len(imgs)):\n",
    "        if i >= 500:  # 최대 500장의 이미지 저장\n",
    "            break\n",
    "            \n",
    "        try:\n",
    "            imgs[i].click()  # 5. 이미지 클릭\n",
    "            time.sleep(1)\n",
    "        except:\n",
    "            break\n",
    "        \n",
    "        count = 0\n",
    "        while(True):\n",
    "            if count > 10:\n",
    "                break\n",
    "            count += 1\n",
    "            try:\n",
    "                # 6. 클릭한 이미지에서 url 정보 가져오기\n",
    "                image = driver.find_element(By.CSS_SELECTOR, '#Sva75c > div > div > div.pxAole > div.tvh9oe.BIB1wf > c-wiz > div > div.OUZ5W > div.zjoqD > div.qdnLaf.isv-id > div > a')\n",
    "                time.sleep(0.5)\n",
    "                break\n",
    "            except:\n",
    "                pass\n",
    "        \n",
    "        count2 = 0\n",
    "        while(True):\n",
    "            if count2 > 5:\n",
    "                break\n",
    "            count2 += 1\n",
    "            try:\n",
    "                # 7. 가져온 url을 통해 이미지를 np.array로 저장 후 dictionary 안의 리스트에 저장\n",
    "                image = image.find_element(By.TAG_NAME, 'img').get_attribute('src')\n",
    "                image = url_to_image(image)\n",
    "                kia[carname].append(image)\n",
    "                break\n",
    "            except:\n",
    "                pass\n",
    "\n",
    "    driver.close()"
   ]
  },
  {
   "cell_type": "code",
   "execution_count": 13,
   "id": "4f63adb4",
   "metadata": {
    "scrolled": true
   },
   "outputs": [],
   "source": [
    "kia_crawling(kia_list[-1])"
   ]
  },
  {
   "cell_type": "code",
   "execution_count": 15,
   "id": "412381f5",
   "metadata": {},
   "outputs": [],
   "source": [
    "np.save('car project/kia.npy', kia)  # dictionary 저장"
   ]
  },
  {
   "cell_type": "code",
   "execution_count": 7,
   "id": "c38ac914",
   "metadata": {},
   "outputs": [],
   "source": [
    "kia = np.load(('car project/kia.npy'),allow_pickle='TRUE').item()  # 저장한 .npy 파일 불러오기"
   ]
  },
  {
   "cell_type": "code",
   "execution_count": 20,
   "id": "792f32c7",
   "metadata": {},
   "outputs": [
    {
     "data": {
      "text/plain": [
       "dict_keys(['니로 EV', '니로 플러스', 'EV6', 'EV6 GT', '봉고Ⅲ EV', '봉고III 탑차/윙바디 EV', '봉고III 파워게이트 EV', '모닝', 'K3', 'K3 GT', 'K5', 'K8', '기아 레이', '스팅어', 'K9', '셀토스', '니로', '스포티지', '쏘렌토', '모하비', '카니발', '카니발 하이리무진', 'K8택시', '봉고Ⅲ 트럭', '봉고III 탑차/윙바디/워크스루밴', '봉고III 덤프', '봉고III 파워게이트', '봉고III 와이드트럭/홈로리/활어수송차', '그랜버드'])"
      ]
     },
     "execution_count": 20,
     "metadata": {},
     "output_type": "execute_result"
    }
   ],
   "source": [
    "kia.keys()  # 정상적으로 불러왔는지 확인"
   ]
  },
  {
   "cell_type": "code",
   "execution_count": null,
   "id": "d39e93a7",
   "metadata": {},
   "outputs": [],
   "source": []
  }
 ],
 "metadata": {
  "kernelspec": {
   "display_name": "Python 3 (ipykernel)",
   "language": "python",
   "name": "python3"
  },
  "language_info": {
   "codemirror_mode": {
    "name": "ipython",
    "version": 3
   },
   "file_extension": ".py",
   "mimetype": "text/x-python",
   "name": "python",
   "nbconvert_exporter": "python",
   "pygments_lexer": "ipython3",
   "version": "3.7.0"
  }
 },
 "nbformat": 4,
 "nbformat_minor": 5
}
